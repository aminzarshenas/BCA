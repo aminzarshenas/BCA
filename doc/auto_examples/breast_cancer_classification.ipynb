{
  "nbformat_minor": 0, 
  "nbformat": 4, 
  "cells": [
    {
      "execution_count": null, 
      "cell_type": "code", 
      "source": [
        "%matplotlib inline"
      ], 
      "outputs": [], 
      "metadata": {
        "collapsed": false
      }
    }, 
    {
      "source": [
        "\n# Breast cancer classification coupled with BCA feature selection\n\n\nAn example plot of :class:`bca.bca.BCA`\n\n"
      ], 
      "cell_type": "markdown", 
      "metadata": {}
    }, 
    {
      "execution_count": null, 
      "cell_type": "code", 
      "source": [
        "from bca import BCA\nfrom sklearn.datasets import load_breast_cancer\nfrom sklearn.naive_bayes import GaussianNB\n\n# reading the input features and class labels from the breast cancer dataset\nX, y = load_breast_cancer().data, load_breast_cancer().target\n\n# setting the main estimator (e.g., naive Bayes in this example)\nestimator = GaussianNB()\n\n# setting the feature selection class and indicating the main estimator\nselector = BCA(estimator)\n\n# fitting the estimator while performing wrapper feature selection\nselector.fit(X, y)\n\n# best selected features\nprint(selector.features) \n\n# best validation score (default is accuracy but can be set to other metrics)\nprint(selector.score)  \n\n# predict function transforms the features intrinsically and predict the class label\nprint(selector.predict(X[20:25]))"
      ], 
      "outputs": [], 
      "metadata": {
        "collapsed": false
      }
    }
  ], 
  "metadata": {
    "kernelspec": {
      "display_name": "Python 2", 
      "name": "python2", 
      "language": "python"
    }, 
    "language_info": {
      "mimetype": "text/x-python", 
      "nbconvert_exporter": "python", 
      "name": "python", 
      "file_extension": ".py", 
      "version": "2.7.13", 
      "pygments_lexer": "ipython2", 
      "codemirror_mode": {
        "version": 2, 
        "name": "ipython"
      }
    }
  }
}